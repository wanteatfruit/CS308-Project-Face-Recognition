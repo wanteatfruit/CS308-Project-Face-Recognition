{
 "cells": [
  {
   "cell_type": "code",
   "execution_count": 2,
   "metadata": {},
   "outputs": [
    {
     "name": "stdout",
     "output_type": "stream",
     "text": [
      "==================================================\n",
      "Reading meta.....\n",
      "==================================================\n"
     ]
    }
   ],
   "source": [
    "import os\n",
    "import numpy as np\n",
    "import pandas as pd\n",
    "import csv\n",
    "import tqdm\n",
    "from vgg import get_cls,get_img_paths,svm_classify\n",
    "from vgg import face_verification\n",
    "from sklearn.metrics import DetCurveDisplay,det_curve\n",
    "from sklearn.metrics import RocCurveDisplay,roc_curve\n",
    "import matplotlib.pyplot as plt\n",
    "\n",
    "\n",
    "\n",
    "label_path = './test_list.txt'\n",
    "score_path = 'scores'\n",
    "r_idx_path = 'identity_meta.csv'\n",
    "\n",
    "# build class to name mapping\n",
    "mapping = dict()\n",
    "with open('identity_meta.csv','r',encoding='utf-8') as f:\n",
    "    csvFile = csv.reader(f)\n",
    "    for line in csvFile:\n",
    "        mapping[line[0]]=line[1]\n",
    "\n",
    "if not os.path.exists(score_path):\n",
    "    os.makedirs(score_path)\n",
    "\n",
    "\n",
    "    "
   ]
  },
  {
   "cell_type": "code",
   "execution_count": 4,
   "metadata": {},
   "outputs": [],
   "source": [
    "def face_identification_eval():\n",
    "    cls = get_cls()\n",
    "    train_image_paths,test_image_paths,train_labels,test_gt_labels = get_img_paths(cls)\n",
    "    test_pred_labels, test_pred_conf = svm_classify(train_image_paths,train_labels,test_image_paths)\n",
    "    return test_gt_labels, test_pred_labels, test_pred_conf\n",
    "\n",
    "# identification eval\n",
    "test_gt , test_pred, pred_conf = face_identification_eval()\n"
   ]
  },
  {
   "cell_type": "code",
   "execution_count": null,
   "metadata": {},
   "outputs": [],
   "source": [
    "tp = 0\n",
    "fp = 0\n",
    "for i,l in enumerate(test_gt):\n",
    "    if test_pred[i]==test_gt[i]:\n",
    "        tp+=1\n",
    "    else:\n",
    "        fp+=1\n",
    "top_1_err = fp/len(test_gt)\n",
    "fpr,fnr,_ = det_curve(test_gt,test_pred)\n",
    "det = DetCurveDisplay(fpr=fpr,fnr=fnr,estimator_name='SVC')\n",
    "det.plot()\n",
    "plt.show()"
   ]
  }
 ],
 "metadata": {
  "kernelspec": {
   "display_name": "Python 3",
   "language": "python",
   "name": "python3"
  },
  "language_info": {
   "codemirror_mode": {
    "name": "ipython",
    "version": 3
   },
   "file_extension": ".py",
   "mimetype": "text/x-python",
   "name": "python",
   "nbconvert_exporter": "python",
   "pygments_lexer": "ipython3",
   "version": "3.10.5"
  },
  "orig_nbformat": 4,
  "vscode": {
   "interpreter": {
    "hash": "2469a70536e4d2335a2ea8907942d0699c37342a371ac185bdb5b0aa6f073890"
   }
  }
 },
 "nbformat": 4,
 "nbformat_minor": 2
}
